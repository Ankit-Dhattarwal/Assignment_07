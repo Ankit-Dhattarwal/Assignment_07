{
 "cells": [
  {
   "cell_type": "markdown",
   "id": "c9bddcf0-24b9-42ea-a8ec-39e20423ef89",
   "metadata": {},
   "source": [
    "###Q.1> You are writing code for a company. The requirement of the company is that you create a python function that will check whether the password entered by the user is correct or not. The function should take the password as input and return the string “Valid Password” if the entered password follows the below-given password guidelines else it should return “Invalid Password”. Note: 1. The Password should contain at least two uppercase letters and at least two lowercase letters. 2. The Password should contain at least a number and three special characters. 3. The length of the password should be 10 characters long."
   ]
  },
  {
   "cell_type": "markdown",
   "id": "b2fc243b-8570-49c4-917e-7436e61b0238",
   "metadata": {},
   "source": [
    "#### ANSWER"
   ]
  },
  {
   "cell_type": "code",
   "execution_count": 2,
   "id": "4e21c7b4-b3af-42ef-88c2-641721dff94d",
   "metadata": {},
   "outputs": [],
   "source": [
    "def check_password(password):\n",
    "    if len(password) != 10:\n",
    "        return \"Invalid Password\"\n",
    "    \n",
    "    num_count = sum(1 for c in password if c.isdigit())\n",
    "    if num_count < 1:\n",
    "        return \"Invalid Password\"\n",
    "    \n",
    "    special_count = sum(1 for c in password if c in string.punctuation)\n",
    "    if special_count < 3:\n",
    "        return \"Invalid Password\"\n",
    "    \n",
    "    uppercase_count = sum(1 for c in password if c.isupper())\n",
    "    lowercase_count = sum(1 for c in password if c.islower())\n",
    "    if uppercase_count < 2 or lowercase_count < 2:\n",
    "        return \"Invalid Password\"\n",
    "    \n",
    "    return \"Valid Password\"\n"
   ]
  },
  {
   "cell_type": "markdown",
   "id": "3c219ad0-c2bc-4646-a5e6-f93b8a83e791",
   "metadata": {},
   "source": [
    "### Q.2> Solve the below-given questions using at least one of the following:\n",
    "### 1. Lambda function\n",
    "### 2. Filter function\n",
    "### 3. Zap function\n",
    "### 4. List Comprehension\n",
    "### B Check if the string starts with a particular letterY\n",
    "### B Check if the string is numericY\n",
    "### B Sort a list of tuples having fruit names and their quantity. [(\"mango\",99),(\"orange\",80), (\"grapes\", 1000)-\n",
    "### B Find the squares of numbers from 1 to 10Y\n",
    "### B Find the cube root of numbers from 1 to 10Y\n",
    "### B Check if a given number is evenY\n",
    "### B Filter odd numbers from the given list.\n",
    "### [1,2,3,4,5,6,7,8,9,10-\n",
    "### B Sort a list of integers into positive and negative integers lists.\n",
    "### [1,2,3,4,5,6,-1,-2,-3,-4,-5,0]"
   ]
  },
  {
   "cell_type": "code",
   "execution_count": 3,
   "id": "304e742b-f0f6-4f9c-9a2b-7c588aaf031a",
   "metadata": {},
   "outputs": [
    {
     "name": "stdout",
     "output_type": "stream",
     "text": [
      "True\n",
      "False\n"
     ]
    }
   ],
   "source": [
    "starts_with = lambda string, letter: string.startswith(letter)\n",
    "\n",
    "print(starts_with(\"hello\", \"h\"))  # True\n",
    "print(starts_with(\"world\", \"h\"))  # False\n"
   ]
  },
  {
   "cell_type": "code",
   "execution_count": 4,
   "id": "c5202eb9-0cd8-46de-b0ac-a31aa3848059",
   "metadata": {},
   "outputs": [
    {
     "name": "stdout",
     "output_type": "stream",
     "text": [
      "True\n",
      "False\n"
     ]
    }
   ],
   "source": [
    "is_numeric = lambda string: string.isnumeric()\n",
    "\n",
    "print(is_numeric(\"123\"))  # True\n",
    "print(is_numeric(\"abc\"))  # False\n"
   ]
  },
  {
   "cell_type": "code",
   "execution_count": 5,
   "id": "0a7457c5-7015-42e0-bc12-da3797211d10",
   "metadata": {},
   "outputs": [
    {
     "name": "stdout",
     "output_type": "stream",
     "text": [
      "[('orange', 80), ('mango', 99), ('grapes', 1000)]\n"
     ]
    }
   ],
   "source": [
    "fruits = [(\"mango\", 99), (\"orange\", 80), (\"grapes\", 1000)]\n",
    "\n",
    "sorted_fruits = sorted(fruits, key=lambda x: x[1])\n",
    "\n",
    "print(sorted_fruits)  # [(\"orange\", 80), (\"mango\", 99), (\"grapes\", 1000)]\n"
   ]
  },
  {
   "cell_type": "code",
   "execution_count": 6,
   "id": "4976e882-55b9-4db3-b835-1b259f62fd37",
   "metadata": {},
   "outputs": [
    {
     "name": "stdout",
     "output_type": "stream",
     "text": [
      "[1, 4, 9, 16, 25, 36, 49, 64, 81, 100]\n"
     ]
    }
   ],
   "source": [
    "squares = [x**2 for x in range(1, 11)]\n",
    "\n",
    "print(squares)  # [1, 4, 9, 16, 25, 36, 49, 64, 81, 100]\n"
   ]
  },
  {
   "cell_type": "code",
   "execution_count": 7,
   "id": "9dc67836-c1d5-403c-af56-84b93034e47d",
   "metadata": {},
   "outputs": [
    {
     "name": "stdout",
     "output_type": "stream",
     "text": [
      "[1.0, 1.2599210498948732, 1.4422495703074083, 1.5874010519681994, 1.7099759466766968, 1.8171205928321397, 1.912931182772389, 2.0, 2.080083823051904, 2.154434690031884]\n"
     ]
    }
   ],
   "source": [
    "import math\n",
    "\n",
    "cube_roots = [math.pow(x, 1/3) for x in range(1, 11)]\n",
    "\n",
    "print(cube_roots)  # [1.0, 1.2599210498948732, 1.4422495703074083, 1.5874010519681994, 1.7099759466766968, 1.8171205928321397, 1.912931182772389, 2.0, 2.080083823051904, 2.154434690031884]\n"
   ]
  },
  {
   "cell_type": "code",
   "execution_count": 8,
   "id": "b59214f0-9b83-4359-b73f-60e4637878b6",
   "metadata": {},
   "outputs": [
    {
     "name": "stdout",
     "output_type": "stream",
     "text": [
      "True\n",
      "False\n"
     ]
    }
   ],
   "source": [
    "is_even = lambda x: x % 2 == 0\n",
    "\n",
    "print(is_even(4))  # True\n",
    "print(is_even(5))  # False\n"
   ]
  },
  {
   "cell_type": "code",
   "execution_count": null,
   "id": "9c34ed9d-2e79-4ac3-a71c-35505e030a8a",
   "metadata": {},
   "outputs": [],
   "source": []
  }
 ],
 "metadata": {
  "kernelspec": {
   "display_name": "Python 3 (ipykernel)",
   "language": "python",
   "name": "python3"
  },
  "language_info": {
   "codemirror_mode": {
    "name": "ipython",
    "version": 3
   },
   "file_extension": ".py",
   "mimetype": "text/x-python",
   "name": "python",
   "nbconvert_exporter": "python",
   "pygments_lexer": "ipython3",
   "version": "3.10.8"
  }
 },
 "nbformat": 4,
 "nbformat_minor": 5
}
